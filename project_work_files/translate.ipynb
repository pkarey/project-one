{
 "cells": [
  {
   "cell_type": "code",
   "execution_count": 24,
   "metadata": {},
   "outputs": [],
   "source": [
    "import pandas as pd\n",
    "csv = pd.read_csv(r\"C:\\Users\\pkare\\Documents\\Data Bootcamp\\Assignments\\project-one\\autos.csv\", encoding= 'ISO-8859-1')"
   ]
  },
  {
   "cell_type": "code",
   "execution_count": 26,
   "metadata": {},
   "outputs": [],
   "source": [
    "crawled_date = csv[\"dateCrawled\"]\n",
    "name = csv[\"name\"]\n",
    "seller = csv[\"seller\"]\n",
    "offer_type = csv[\"offerType\"]\n",
    "price = csv[\"price\"]\n",
    "abtest = csv['abtest']\n",
    "vehicle_type = csv['vehicleType']\n",
    "reg_yr = csv['yearOfRegistration']\n",
    "gearbox = csv['gearbox']\n",
    "powerps = csv['powerPS']\n",
    "model = csv['model']\n",
    "distance = csv['kilometer']\n",
    "reg_mon = csv['monthOfRegistration']\n",
    "fuel_type = csv['fuelType']\n",
    "brand = csv['brand']\n",
    "no_repair = csv['notRepairedDamage']\n",
    "created_date = csv['dateCreated']\n",
    "postal = csv['postalCode']\n",
    "last_seen = csv['lastSeen']"
   ]
  },
  {
   "cell_type": "code",
   "execution_count": 39,
   "metadata": {},
   "outputs": [],
   "source": [
    "csv.loc[csv[\"seller\"] == \"privat\", \"seller\"] = \"private\"\n",
    "csv.loc[csv[\"seller\"] == \"gewerblich\", \"seller\"] = \"commercial\"\n",
    "\n",
    "csv.loc[csv[\"offerType\"] == \"Angebot\", \"offerType\"] = \"offer\"\n",
    "csv.loc[csv[\"offerType\"] == \"Gesuch\", \"offerType\"] = \"wanted\"\n",
    "\n",
    "csv.loc[csv[\"vehicleType\"] == \"kleinwagen\", \"vehicleType\"] = \"sedan\"\n",
    "csv.loc[csv[\"vehicleType\"] == \"limousine\", \"vehicleType\"] = \"limousine\"\n",
    "csv.loc[csv[\"vehicleType\"] == \"cabrio\", \"vehicleType\"] = \"convertible\"\n",
    "csv.loc[csv[\"vehicleType\"] == \"kombi\", \"vehicleType\"] = \"station wagon\"\n",
    "csv.loc[csv[\"vehicleType\"] == \"andere\", \"vehicleType\"] = \"other\"\n",
    "\n",
    "csv.loc[csv[\"gearbox\"] == \"manuell\", \"gearbox\"] = \"manual\"\n",
    "csv.loc[csv[\"gearbox\"] == \"automatik\", \"gearbox\"] = \"automatic\"\n",
    "\n",
    "csv.loc[csv[\"fuelType\"] == \"benzin\", \"fuelType\"] = \"petrol\"\n",
    "csv.loc[csv[\"fuelType\"] == \"lpg\", \"fuelType\"] = \"autogas\"\n",
    "csv.loc[csv[\"fuelType\"] == \"andere\", \"fuelType\"] = \"other\"\n",
    "csv.loc[csv[\"fuelType\"] == \"cng\", \"fuelType\"] = \"compressed natural gas\"\n",
    "csv.loc[csv[\"fuelType\"] == \"elektro\", \"fuelType\"] = \"electric\"\n",
    "\n",
    "csv.loc[csv[\"notRepairedDamage\"] == \"ja\", \"notRepairedDamage\"] = \"yes\"\n",
    "csv.loc[csv[\"notRepairedDamage\"] == \"nein\", \"notRepairedDamage\"] = \"no\"\n",
    "\n"
   ]
  },
  {
   "cell_type": "code",
   "execution_count": 42,
   "metadata": {},
   "outputs": [],
   "source": [
    "csv.to_csv(\"../autos_translate.csv\", index=False, header= True)"
   ]
  }
 ],
 "metadata": {
  "kernelspec": {
   "display_name": "base",
   "language": "python",
   "name": "python3"
  },
  "language_info": {
   "codemirror_mode": {
    "name": "ipython",
    "version": 3
   },
   "file_extension": ".py",
   "mimetype": "text/x-python",
   "name": "python",
   "nbconvert_exporter": "python",
   "pygments_lexer": "ipython3",
   "version": "3.11.5"
  }
 },
 "nbformat": 4,
 "nbformat_minor": 2
}
