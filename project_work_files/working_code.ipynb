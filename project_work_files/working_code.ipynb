{
 "cells": [
  {
   "cell_type": "code",
   "execution_count": 1,
   "metadata": {},
   "outputs": [],
   "source": [
    "import os\n",
    "import csv\n",
    "import pandas as pd\n",
    "import matplotlib.pyplot as plt\n"
   ]
  },
  {
   "cell_type": "code",
   "execution_count": 49,
   "metadata": {},
   "outputs": [
    {
     "name": "stdout",
     "output_type": "stream",
     "text": [
      "<class 'pandas.core.frame.DataFrame'>\n",
      "RangeIndex: 371528 entries, 0 to 371527\n",
      "Data columns (total 20 columns):\n",
      " #   Column               Non-Null Count   Dtype \n",
      "---  ------               --------------   ----- \n",
      " 0   dateCrawled          371528 non-null  object\n",
      " 1   name                 371528 non-null  object\n",
      " 2   seller               371528 non-null  object\n",
      " 3   offerType            371528 non-null  object\n",
      " 4   price                371528 non-null  int64 \n",
      " 5   abtest               371528 non-null  object\n",
      " 6   vehicleType          333659 non-null  object\n",
      " 7   yearOfRegistration   371528 non-null  int64 \n",
      " 8   gearbox              351319 non-null  object\n",
      " 9   powerPS              371528 non-null  int64 \n",
      " 10  model                351044 non-null  object\n",
      " 11  kilometer            371528 non-null  int64 \n",
      " 12  monthOfRegistration  371528 non-null  int64 \n",
      " 13  fuelType             338142 non-null  object\n",
      " 14  brand                371528 non-null  object\n",
      " 15  notRepairedDamage    299468 non-null  object\n",
      " 16  dateCreated          371528 non-null  object\n",
      " 17  nrOfPictures         371528 non-null  int64 \n",
      " 18  postalCode           371528 non-null  int64 \n",
      " 19  lastSeen             371528 non-null  object\n",
      "dtypes: int64(7), object(13)\n",
      "memory usage: 56.7+ MB\n"
     ]
    }
   ],
   "source": [
    "csv = pd.read_csv(r\"C:\\Users\\pkare\\Documents\\Data Bootcamp\\Assignments\\project-one\\autos_translate.csv\", encoding= 'ISO-8859-1')\n",
    "\n",
    "csv.info()"
   ]
  },
  {
   "cell_type": "code",
   "execution_count": 3,
   "metadata": {},
   "outputs": [
    {
     "name": "stdout",
     "output_type": "stream",
     "text": [
      "(371528, 20)\n"
     ]
    }
   ],
   "source": [
    "print(csv.shape)"
   ]
  },
  {
   "cell_type": "code",
   "execution_count": 50,
   "metadata": {},
   "outputs": [
    {
     "name": "stdout",
     "output_type": "stream",
     "text": [
      "<class 'pandas.core.frame.DataFrame'>\n",
      "Index: 260956 entries, 3 to 371527\n",
      "Data columns (total 20 columns):\n",
      " #   Column               Non-Null Count   Dtype \n",
      "---  ------               --------------   ----- \n",
      " 0   dateCrawled          260956 non-null  object\n",
      " 1   name                 260956 non-null  object\n",
      " 2   seller               260956 non-null  object\n",
      " 3   offerType            260956 non-null  object\n",
      " 4   price                260956 non-null  int64 \n",
      " 5   abtest               260956 non-null  object\n",
      " 6   vehicleType          260956 non-null  object\n",
      " 7   yearOfRegistration   260956 non-null  int64 \n",
      " 8   gearbox              260956 non-null  object\n",
      " 9   powerPS              260956 non-null  int64 \n",
      " 10  model                260956 non-null  object\n",
      " 11  kilometer            260956 non-null  int64 \n",
      " 12  monthOfRegistration  260956 non-null  int64 \n",
      " 13  fuelType             260956 non-null  object\n",
      " 14  brand                260956 non-null  object\n",
      " 15  notRepairedDamage    260956 non-null  object\n",
      " 16  dateCreated          260956 non-null  object\n",
      " 17  nrOfPictures         260956 non-null  int64 \n",
      " 18  postalCode           260956 non-null  int64 \n",
      " 19  lastSeen             260956 non-null  object\n",
      "dtypes: int64(7), object(13)\n",
      "memory usage: 41.8+ MB\n"
     ]
    }
   ],
   "source": [
    "autos = csv.dropna(axis= 0)\n",
    "\n",
    "autos.info()"
   ]
  },
  {
   "cell_type": "code",
   "execution_count": null,
   "metadata": {},
   "outputs": [],
   "source": []
  },
  {
   "cell_type": "code",
   "execution_count": 52,
   "metadata": {},
   "outputs": [
    {
     "data": {
      "text/plain": [
       "3    1500\n",
       "4    3600\n",
       "5     650\n",
       "6    2200\n",
       "7       0\n",
       "Name: price, dtype: int64"
      ]
     },
     "execution_count": 52,
     "metadata": {},
     "output_type": "execute_result"
    }
   ],
   "source": [
    "crawled_date = autos[\"dateCrawled\"]\n",
    "name = autos[\"name\"]\n",
    "seller = autos[\"seller\"]\n",
    "offer_type = autos[\"offerType\"]\n",
    "price = autos[\"price\"]\n",
    "abtest = autos['abtest']\n",
    "vehicle_type = autos['vehicleType']\n",
    "reg_yr = autos['yearOfRegistration']\n",
    "gearbox = autos['gearbox']\n",
    "powerps = autos['powerPS']\n",
    "model = autos['model']\n",
    "distance = autos['kilometer']\n",
    "reg_mon = autos['monthOfRegistration']\n",
    "fuel_type = autos['fuelType']\n",
    "brand = autos['brand']\n",
    "no_repair = autos['notRepairedDamage']\n",
    "created_date = autos['dateCreated']\n",
    "postal = autos['postalCode']\n",
    "last_seen = autos['lastSeen']\n",
    "price.head()\n",
    "\n"
   ]
  },
  {
   "cell_type": "code",
   "execution_count": 45,
   "metadata": {},
   "outputs": [
    {
     "data": {
      "text/plain": [
       "3    2016-03-17 16:54:04\n",
       "4    2016-03-31 17:25:20\n",
       "5    2016-04-04 17:36:23\n",
       "6    2016-04-01 20:48:51\n",
       "7    2016-03-21 18:54:38\n",
       "Name: dateCrawled, dtype: object"
      ]
     },
     "execution_count": 45,
     "metadata": {},
     "output_type": "execute_result"
    }
   ],
   "source": [
    "crawled_date.head()"
   ]
  },
  {
   "cell_type": "code",
   "execution_count": 46,
   "metadata": {},
   "outputs": [
    {
     "data": {
      "text/plain": [
       "3    2016-03-17 00:00:00\n",
       "4    2016-03-31 00:00:00\n",
       "5    2016-04-04 00:00:00\n",
       "6    2016-04-01 00:00:00\n",
       "7    2016-03-21 00:00:00\n",
       "Name: dateCreated, dtype: object"
      ]
     },
     "execution_count": 46,
     "metadata": {},
     "output_type": "execute_result"
    }
   ],
   "source": [
    "created_date.head()"
   ]
  },
  {
   "cell_type": "code",
   "execution_count": 44,
   "metadata": {},
   "outputs": [
    {
     "data": {
      "text/plain": [
       "3    2016-03-17 17:40:17\n",
       "4    2016-04-06 10:17:21\n",
       "5    2016-04-06 19:17:07\n",
       "6    2016-04-05 18:18:39\n",
       "7    2016-03-25 16:47:58\n",
       "Name: lastSeen, dtype: object"
      ]
     },
     "execution_count": 44,
     "metadata": {},
     "output_type": "execute_result"
    }
   ],
   "source": [
    "last_seen.head()"
   ]
  },
  {
   "cell_type": "code",
   "execution_count": 51,
   "metadata": {},
   "outputs": [
    {
     "name": "stdout",
     "output_type": "stream",
     "text": [
      "<class 'pandas.core.frame.DataFrame'>\n",
      "Index: 1025 entries, 635 to 371501\n",
      "Data columns (total 20 columns):\n",
      " #   Column               Non-Null Count  Dtype \n",
      "---  ------               --------------  ----- \n",
      " 0   dateCrawled          1025 non-null   object\n",
      " 1   name                 1025 non-null   object\n",
      " 2   seller               1025 non-null   object\n",
      " 3   offerType            1025 non-null   object\n",
      " 4   price                1025 non-null   int64 \n",
      " 5   abtest               1025 non-null   object\n",
      " 6   vehicleType          1025 non-null   object\n",
      " 7   yearOfRegistration   1025 non-null   int64 \n",
      " 8   gearbox              1025 non-null   object\n",
      " 9   powerPS              1025 non-null   int64 \n",
      " 10  model                1025 non-null   object\n",
      " 11  kilometer            1025 non-null   int64 \n",
      " 12  monthOfRegistration  1025 non-null   int64 \n",
      " 13  fuelType             1025 non-null   object\n",
      " 14  brand                1025 non-null   object\n",
      " 15  notRepairedDamage    1025 non-null   object\n",
      " 16  dateCreated          1025 non-null   object\n",
      " 17  nrOfPictures         1025 non-null   int64 \n",
      " 18  postalCode           1025 non-null   int64 \n",
      " 19  lastSeen             1025 non-null   object\n",
      "dtypes: int64(7), object(13)\n",
      "memory usage: 168.2+ KB\n"
     ]
    }
   ],
   "source": [
    "toyota = autos.loc[autos['brand'] == 'toyota']\n",
    "honda = autos.loc[autos['brand'] == 'honda']\n",
    "nissan = autos.loc[autos['brand'] == 'nissan']\n",
    "\n",
    "volkswagen = autos.loc[autos['brand'] == 'volkswagen']\n",
    "bmw = autos.loc[autos['brand'] == 'bmw']\n",
    "mercedes = autos.loc[autos['brand'] == 'mercedes_benz']\n",
    "\n",
    "ford = autos.loc[autos['brand'] == 'ford']\n",
    "chevy = autos.loc[autos['brand'] == 'chevrolet']\n",
    "chrysler = autos.loc[autos['brand'] == 'chrysler']\n",
    "\n",
    "chrysler.info()"
   ]
  }
 ],
 "metadata": {
  "kernelspec": {
   "display_name": "base",
   "language": "python",
   "name": "python3"
  },
  "language_info": {
   "codemirror_mode": {
    "name": "ipython",
    "version": 3
   },
   "file_extension": ".py",
   "mimetype": "text/x-python",
   "name": "python",
   "nbconvert_exporter": "python",
   "pygments_lexer": "ipython3",
   "version": "3.11.5"
  }
 },
 "nbformat": 4,
 "nbformat_minor": 2
}
